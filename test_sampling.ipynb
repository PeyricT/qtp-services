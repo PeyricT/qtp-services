{
 "cells": [
  {
   "cell_type": "markdown",
   "id": "2b2be7ad",
   "metadata": {},
   "source": [
    "# Sampling ressources to generate test data set input files\n",
    "qtp-services includes a utils package to harness the generation of small to medium sized datasets.\n",
    "Based on a MS experiment file, in csv format, proteins can be selected and their related informations extracted from string and uniprot records.\n",
    "\n",
    "You will need to describe the expected format of the MS csv file: \n",
    "* the record format as a dictionary matching the pandas.csv_read 'dtype' options\n",
    "* the name of the column featuring the uniprot identifiers\n",
    "* the name of the column featuring the quantitative variable use to sort the csv record\n",
    "\n",
    "The above cells showcase the following steps:\n",
    "1. Sort uniprot entries from experiment MS\n",
    "2. Pick uniprot identifiers according to user's settings\n",
    "3. Extract matching xml elements\n",
    "4. Extract matching string entries\n",
    "5. Generates corresponding xml/string inputs files\n",
    "\n",
    "From a list of uniprot identifiers extracted from the MS csv file, you will obtain sample/reduced sets for the following data:\n",
    "* uniprot_xml\n",
    "* string_alias\n",
    "* string_details\n",
    "Which will exactly cover the information avaible for the extracted uniprot identifier\n"
   ]
  },
  {
   "cell_type": "code",
   "execution_count": 1,
   "id": "dd495751",
   "metadata": {},
   "outputs": [],
   "source": [
    "import numpy as np\n",
    "\n",
    "data_type = {\n",
    "    'Accession': str, 'Description': str, 'Gene Symbol': str,'Log2 Corrected Abundance Ratio':  np.float64, \n",
    "     'Corrected Abundance ratio (1.53)':  np.float64,  \n",
    "     'Abundance Ratio Adj. P-Value: (127. T3 Tc WT) / (126. T0 WT)':  np.float64, '-LOG10 Adj.P-val':  np.float64\n",
    "    }\n",
    "\n",
    "ms_data_csv_file     = 'data/exp/Nolivos/Nolivos_wt1_subset.tsv'\n",
    "uniprot_proteome_xml = 'data/proteomes/Escherichia_coli_K12_and_TMT_21026.xml'\n",
    "string_alias         = 'data/ppi/string/Escherichia_coli/511145.protein.aliases.v11.5.txt'\n",
    "string_details       = 'data/ppi/string/Escherichia_coli/511145.protein.links.detailed.v11.5.txt'"
   ]
  },
  {
   "cell_type": "markdown",
   "id": "7f0b0d8c",
   "metadata": {},
   "source": [
    "### Process MS experimental input (csv)\n",
    "##### Sort uniprot entries from experiment MS\n",
    "##### Pick uniprot identifiers according to user's settings"
   ]
  },
  {
   "cell_type": "code",
   "execution_count": 2,
   "id": "b0048a10",
   "metadata": {},
   "outputs": [
    {
     "name": "stdout",
     "output_type": "stream",
     "text": [
      "{'Pfam IDs', 'Description', 'Ensembl Gene ID', 'Corrected Abundance ratio (1,53)', 'Accession', 'Log2 Corrected Abundance Ratio', 'Abundance Ratio Adj. P-Value: (127, T3 Tc WT) / (126, T0 WT)', 'LOG10 Adj.P-val', 'Molecular Function', 'Abundance Ratio: (127, T3 Tc WT) / (126, T0 WT)', 'KEGG Pathways', 'Cellular Component', 'Biological Process', 'Entrez Gene ID', 'Gene Symbol'}\n"
     ]
    },
    {
     "data": {
      "text/plain": [
       "['P0A8S9', 'P05706', 'P29744', 'P43533', 'P69741']"
      ]
     },
     "execution_count": 2,
     "metadata": {},
     "output_type": "execute_result"
    }
   ],
   "source": [
    "from qtp_services.utils.ms_data_csv import MS_frame\n",
    "ms_frame = MS_frame(ms_data_csv_file)\n",
    "ms_frame.parse(ms_data_csv_file, \n",
    "                       'Corrected Abundance ratio (1,53)', \n",
    "                       data_type, \"Accession\")\n",
    "\n",
    "sample_uniprot_list = ms_frame.transform(min_value=0.1).uniprot_ids[:50]\n",
    "sample_uniprot_list[:5]"
   ]
  },
  {
   "cell_type": "markdown",
   "id": "33b4a32d",
   "metadata": {},
   "source": [
    "## Extract all the corresponding xml proteome entries "
   ]
  },
  {
   "cell_type": "code",
   "execution_count": 4,
   "id": "b77e2e45",
   "metadata": {},
   "outputs": [
    {
     "name": "stdout",
     "output_type": "stream",
     "text": [
      "indexing\n",
      "successfully indexed 10698\n"
     ]
    }
   ],
   "source": [
    "from qtp_services.utils.uniprot_xml import transform_xml_tree\n",
    "sample_proteome_xml = transform_xml_tree(uniprot_proteome_xml, sample_uniprot_list)"
   ]
  },
  {
   "cell_type": "markdown",
   "id": "b73a0a49",
   "metadata": {},
   "source": [
    "## Extract matching string entries, from the *alias* and *details* flat files\n",
    "#### Generates corresponding xml/string inputs files"
   ]
  },
  {
   "cell_type": "code",
   "execution_count": 5,
   "id": "d379fd80",
   "metadata": {},
   "outputs": [],
   "source": [
    "from qtp_services.utils.string_flat import extract_string\n",
    "new_alias, new_detail = extract_string(string_alias, string_details,\n",
    "                sample_uniprot_list)\n",
    "label = \"my_dataset\"\n",
    "with open(f\"{label}.protein.links.detailed.txt\", 'w') as f_detail:\n",
    "    f_detail.write(new_detail)\n",
    "with open(f\"{label}.protein.aliases.txt\", 'w') as f_alias:\n",
    "    f_alias.write(new_alias)\n",
    "      "
   ]
  }
 ],
 "metadata": {
  "kernelspec": {
   "display_name": "qtp_services",
   "language": "python",
   "name": "qtp_services"
  },
  "language_info": {
   "codemirror_mode": {
    "name": "ipython",
    "version": 3
   },
   "file_extension": ".py",
   "mimetype": "text/x-python",
   "name": "python",
   "nbconvert_exporter": "python",
   "pygments_lexer": "ipython3",
   "version": "3.9.7"
  }
 },
 "nbformat": 4,
 "nbformat_minor": 5
}
